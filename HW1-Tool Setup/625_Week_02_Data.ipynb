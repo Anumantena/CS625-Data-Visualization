{
 "cells": [
  {
   "cell_type": "markdown",
   "metadata": {
    "colab_type": "text",
    "id": "view-in-github"
   },
   "source": [
    "<a href=\"https://colab.research.google.com/github/cs625-datavis-fall20/assignments/blob/master/625_Week_02_Data.ipynb\" target=\"_parent\"><img src=\"https://colab.research.google.com/assets/colab-badge.svg\" alt=\"Open In Colab\"/></a>"
   ]
  },
  {
   "cell_type": "markdown",
   "metadata": {
    "colab_type": "text",
    "id": "tV4fe0DCfd1a"
   },
   "source": [
    "# CS 625 - Week 02 - Data\n",
    "\n",
    "This notebook goes along with the [Week-02 Data slides](https://docs.google.com/presentation/d/1ZKYXZkjnHy6VbW0Gs_azU_lrRt1pEQBaB6ffn5vzwwQ/edit) from [CS 625 Fall 2020](https://www.cs.odu.edu/~mweigle/CS625-F20/)\n",
    "\n",
    "Google Colab tutorials and references:\n",
    "* [Overview of Colaboratory Features](https://colab.research.google.com/notebooks/basic_features_overview.ipynb)\n",
    "* [Welcome to Colaboratory](https://colab.research.google.com/notebooks/welcome.ipynb)\n",
    "* [Loading Data](https://colab.research.google.com/notebooks/io.ipynb)\n",
    "* [Colab and GitHub](https://colab.research.google.com/github/googlecolab/colabtools/blob/master/notebooks/colab-github-demo.ipynb)\n",
    "\n",
    "Python tutorial from CS 432/532\n",
    "* [slides](https://docs.google.com/presentation/d/1_BtQ5b7aG07xSw-BlcnCJT78qXxL2BqYEzug5Mz6cVU/edit?usp=sharing)\n",
    "* [Google Colab notebook](https://github.com/cs432-websci-fall20/assignments/blob/master/432_Week_02_Python.ipynb)"
   ]
  },
  {
   "cell_type": "markdown",
   "metadata": {
    "colab_type": "text",
    "id": "4eglJSYHZcBE"
   },
   "source": [
    "## Regular Expressions"
   ]
  },
  {
   "cell_type": "code",
   "execution_count": 1,
   "metadata": {
    "colab": {},
    "colab_type": "code",
    "id": "WXN1GKkYZdTF"
   },
   "outputs": [
    {
     "data": {
      "text/plain": [
       "('HEAD', '/foo', 'HTTP/1.1')"
      ]
     },
     "execution_count": 1,
     "metadata": {},
     "output_type": "execute_result"
    }
   ],
   "source": [
    "import re\n",
    "request = \"HEAD /foo HTTP/1.1\"\n",
    "pattern = re.compile(r\"^([A-Z]+)\\s+(\\S+)\\s+([A-Z0-9\\/\\.]+)$\")\n",
    "m = pattern.match(request)\n",
    "m.groups()"
   ]
  },
  {
   "cell_type": "code",
   "execution_count": 2,
   "metadata": {
    "colab": {},
    "colab_type": "code",
    "id": "2ErVxj0m8RbH"
   },
   "outputs": [
    {
     "data": {
      "text/plain": [
       "('200',)"
      ]
     },
     "execution_count": 2,
     "metadata": {},
     "output_type": "execute_result"
    }
   ],
   "source": [
    "response = \"HTTP/1.1 200 OK\"\n",
    "pattern = re.compile(r\"^HTTP\\/[0-9]\\.[0-9]\\s+([0-9]+)[\\s+\\S+]+$\")\n",
    "m = pattern.match(response)\n",
    "m.groups()"
   ]
  },
  {
   "cell_type": "markdown",
   "metadata": {
    "colab_type": "text",
    "id": "KXPeS8vm4Xs9"
   },
   "source": [
    "## requests Library"
   ]
  },
  {
   "cell_type": "markdown",
   "metadata": {
    "colab_type": "text",
    "id": "Ar26PymlBK-I"
   },
   "source": [
    "Accessing response headers"
   ]
  },
  {
   "cell_type": "code",
   "execution_count": 3,
   "metadata": {
    "colab": {},
    "colab_type": "code",
    "id": "ZW-YwJpd4bZd"
   },
   "outputs": [
    {
     "name": "stdout",
     "output_type": "stream",
     "text": [
      "Status Code: 200\n",
      "URI: http://example.com/\n",
      "\n",
      "Headers: {'Content-Encoding': 'gzip', 'Accept-Ranges': 'bytes', 'Age': '486330', 'Cache-Control': 'max-age=604800', 'Content-Type': 'text/html; charset=UTF-8', 'Date': 'Wed, 19 Aug 2020 18:53:38 GMT', 'Etag': '\"3147526947\"', 'Expires': 'Wed, 26 Aug 2020 18:53:38 GMT', 'Last-Modified': 'Thu, 17 Oct 2019 07:18:26 GMT', 'Server': 'ECS (dcb/7FA6)', 'Vary': 'Accept-Encoding', 'X-Cache': 'HIT', 'Content-Length': '648'}\n",
      "\n",
      "Date: Wed, 19 Aug 2020 18:53:38 GMT\n",
      "Content-Type: text/html; charset=UTF-8\n",
      "Content-Length: 648\n"
     ]
    }
   ],
   "source": [
    "import requests\n",
    "response = requests.get('http://example.com')\n",
    "\n",
    "print (\"Status Code: {}\".format(response.status_code))\n",
    "print (\"URI: {}\\n\".format(response.url))\n",
    "\n",
    "print (\"Headers: {}\\n\".format(response.headers))\n",
    "print (\"Date: {}\".format(response.headers['Date']))\n",
    "print (\"Content-Type: {}\".format(response.headers['Content-Type']))\n",
    "print (\"Content-Length: {}\".format(response.headers['Content-Length']))"
   ]
  },
  {
   "cell_type": "markdown",
   "metadata": {
    "colab_type": "text",
    "id": "qPxXZz1GBOye"
   },
   "source": [
    "Using request query parameters"
   ]
  },
  {
   "cell_type": "code",
   "execution_count": 4,
   "metadata": {
    "colab": {},
    "colab_type": "code",
    "id": "dmAc9lVBBbVH"
   },
   "outputs": [
    {
     "name": "stdout",
     "output_type": "stream",
     "text": [
      "URI requested: http://www.google.com/search?q=LSU\n",
      "Status Code: 200\n",
      "\n",
      "<!doctype html><html lang=\"en\"><head><meta charset=\"UTF-8\"><meta content=\"/images/branding/googleg/1x/googleg_standard_color_128dp.png\" itemprop=\"image\"><title>LSU - Google Search</title><script nonce=\"TImgiEuYZCWUjzs4ndXfOA==\">(function(){\n",
      "document.documentElement.addEventListener(\"submit\",function(b){var a;if(a=b.target){var c=a.getAttribute(\"data-submitfalse\");a=\"1\"==c||\"q\"==c&&!a.elements.q.value?!0:!1}else a=!1;a&&(b.preventDefault(),b.stopPropagation())},!0);document.documentElement.addEventListener(\"click\",function(b){var a;a:{for(a=b.target;a&&a!=document.documentElement;a=a.parentElement)if(\"A\"==a.tagName){a=\"1\"==a.getAttribute(\"data-nohref\");break a}a=!1}a&&b.preventDefault()},!0);}).call(this);(function(){\n",
      "var a=window.performance;window.start=Date.now();a:{var b=window;if(a){var c=a.timing;if(c){var d=c.navigationStart,f=c.responseStart;if(f>d&&f<=window.start){window.start=f;b.wsrt=f-d;break a}}a.now&&(b.wsrt=Math.floor(a.now()))}}window.google=window.google||{};var h=function(g){g&&g.target.setAttribute(\"data-iml\",Date.now())};document.documentElement.addEventListener(\"load\",h,!0);google.rglh=function(){document.documentElement.removeEventListener(\"load\",h,!0)};}).call(this);(function(){\n",
      "var c=[],e=0;window.ping=function(b){-1==b.indexOf(\"&zx\")&&(b+=\"&zx=\"+Date.now());var a=new Image,d=e++;c[d]=a;a.onerror=a.onload=a.onabort=function(){delete c[d]};a.src=b};}).call(this);</script><style>body{margin:0 auto;max-width:736px;padding:0 8px}a{color:#1967D2;text-decoration:none;tap-highlight-color:rgba(0,0,0,.1)}a:visited{color:#4B11A8}a:hover{text-decoration:underline}img{border:0}html{font-family:Roboto,HelveticaNeue,Arial,sans-serif;font-size:14px;line-height:20px;text-size-adjust:100%;color:#3C4043;word-wrap:break-word;background-color:#fff}.bRsWnc{background-color:#fff;border-top:1px solid #e0e0e0;height:39px;overflow:hidden}.N6RWV{height:51px;overflow-scrolling:touch;overflow-x:auto;overflow-y:hidden}.Uv67qb{box-pack:justify;font-size:12px;line-height:37px;justify-content:space-between;justify-content:space-between}.Uv67qb a,.Uv67qb span{color:#757575;display:block;flex:none;padding:0 16px;text-align:center;text-transform:uppercase;}span.OXXup{border-bottom:2px solid #4285f4;color:#4285f4;font-weight:bold}a.eZt8xd:visited{color:#757575}.FElbsf{border-left:1px solid rgba(0,0,0,.12)}header article{overflow:visible}.Pg70bf{height:39px;display:box;display:flex;display:flex;width:100%}.H0PQec{position:relative;flex:1}.sbc{display:flex;width:100%}.Pg70bf input{margin:2px 4px 2px 8px;}.x{width:26px;color:#757575;font:27px/38px arial, sans-serif;line-height:40px;}#qdClwb{flex:0 0 auto;width:39px;height:39px;border-bottom:0;padding:0;border-top-right-radius:8px;background-color:#3b78e7;border:1px solid #3367d6;background-image:url(data:image/gif;base64,R0lGODdhJAAjAPIHAODr/nCk+MPZ/FmV96zK+/7+/5K5+kqL9iwAAAAAJAAjAEADani63P4wykmbKcQRXDscQAEMXmmeaLQVLCukzyC09AjfeK7v/MAajACLhPMVAgwjsUcEiZa8xgAYrVqv2Kx2iwsIAAABknfBBAKrTE4IcMyot8ur8datqIbQfJdnAfo2WE6BV05wXIiJigkAOw==);}.sc{font-size:;position:absolute;top:39px;left:0;right:0;box-shadow:0px 2px 5px rgba(0,0,0,.2);z-index:2;background-color:#fff}.sc>div{padding:10px 10px;padding-left:16px;padding-left:14px;border-top:1px solid #DFE1E5}.scs{background-color:#f5f5f5;}.noHIxc{display:block;font-size:16px;padding:0 0 0 8px;flex:1;height:35px;outline:none;border:none;width:100%;-webkit-tap-highlight-color:rgba(0,0,0,0);overflow:hidden;}.sbc input[type=text]{background:none}.sml .cOl4Id{display:none}.l{display:none}.sml header{background:none}.sml .l{display:block;padding:0 8px}.sml .l{letter-spacing:-1px;text-align:center;border-radius:2px 0 0 0;font:22px/36px Futura, Arial, sans-serif;font-smoothing:antialiased}.bz1lBb{background:#fff;border-radius:8px 8px 0 0;box-shadow:0 1px 6px rgba(32, 33, 36, 0.18);margin-top:10px}.KP7LCb{border-radius:0 0 8px 8px;box-shadow:0 2px 3px rgba(32, 33, 36, 0.18);margin-bottom:10px;overflow:hidden}.cOl4Id{letter-spacing:-1px;text-align:center;font:22pt Futura, Arial, sans-serif;padding:10px 0 5px 0;height:37px;font-smoothing:antialiased}.cOl4Id span{display:inline-block}.S591j{height:100%}.V6gwVd{color:#4285f4}.iWkuvd{color:#ea4335}.cDrQ7{color:#fbcc05}.ntlR9{color:#34a853}.tJ3Myc{-webkit-transform:rotate(-20deg);position:relative;left:-1px;display:inline-block}footer{text-align:center;margin-top:18px}footer a,footer a:visited,.smiUbb{color:#5f6368}.ksTU4c{margin:0 13px}#mCljob{margin-top:36px}#mCljob>div{margin:20px}</style></head><body jsmodel=\" TvHxbe\"><header id=\"hdr\"><script nonce=\"TImgiEuYZCWUjzs4ndXfOA==\">(function(){\n",
      "var h=this||self,l=function(){},aa=function(a){var b=typeof a;return\"object\"!=b?b:a?Array.isArray(a)?\"array\":b:\"null\"},m=function(a){var b=typeof a;return\"object\"==b&&null!=a||\"function\"==b},ba=function(a,b){function c(){}c.prototype=b.prototype;a.l=b.prototype;a.prototype=new c;a.prototype.constructor=a};var n=Array.prototype.indexOf?function(a,b){return Array.prototype.indexOf.call(a,b,void 0)}:function(a,b){if(\"string\"===typeof a)return\"string\"!==typeof b||1!=b.length?-1:a.indexOf(b,0);for(var c=0;c<a.length;c++)if(c in a&&a[c]===b)return c;return-1},ca=Array.prototype.filter?function(a,b){return Array.prototype.filter.call(a,b,void 0)}:function(a,b){for(var c=a.length,d=[],e=0,f=\"string\"===typeof a?a.split(\"\"):a,g=0;g<c;g++)if(g in f){var k=f[g];b.call(void 0,k,g,a)&&(d[e++]=k)}return d};var p=function(a){return\"string\"==typeof a.className?a.className:a.getAttribute&&a.getAttribute(\"class\")||\"\"},q=function(a,b){\"string\"==typeof a.className?a.className=b:a.setAttribute&&a.setAttribute(\"class\",b)},r=function(a,b){a.classList?b=a.classList.contains(b):(a=a.classList?a.classList:p(a).match(/\\S+/g)||[],b=0<=n(a,b));return b},da=function(){var a=t,b=u;a.classList?a.classList.remove(b):r(a,b)&&q(a,ca(a.classList?a.classList:p(a).match(/\\S+/g)||[],function(c){return c!=b}).join(\" \"))};var v=String.prototype.trim?function(a){return a.trim()}:function(a){return/^[\\s\\xa0]*([\\s\\S]*?)[\\s\\xa0]*$/.exec(a)[1]},w=function(a,b){return a<b?-1:a>b?1:0};var x;a:{var y=h.navigator;if(y){var z=y.userAgent;if(z){x=z;break a}}x=\"\"};var A=function(a){A[\" \"](a);return a};A[\" \"]=l;var ea=-1!=x.indexOf(\"Opera\"),B=-1!=x.indexOf(\"Trident\")||-1!=x.indexOf(\"MSIE\"),fa=-1!=x.indexOf(\"Edge\"),C=-1!=x.indexOf(\"Gecko\")&&!(-1!=x.toLowerCase().indexOf(\"webkit\")&&-1==x.indexOf(\"Edge\"))&&!(-1!=x.indexOf(\"Trident\")||-1!=x.indexOf(\"MSIE\"))&&-1==x.indexOf(\"Edge\"),ha=-1!=x.toLowerCase().indexOf(\"webkit\")&&-1==x.indexOf(\"Edge\"),ia=function(){var a=h.document;return a?a.documentMode:void 0},D;a:{var E=\"\",F=function(){var a=x;if(C)return/rv:([^\\);]+)(\\)|;)/.exec(a);if(fa)return/Edge\\/([\\d\\.]+)/.exec(a);if(B)return/\\b(?:MSIE|rv)[:]([^\\);]+)(\\)|;)/.exec(a);if(ha)return/WebKit\\/(\\S+)/.exec(a);if(ea)return/(?:Version)[ \\/]?(\\S+)/.exec(a)}();F&&(E=F?F[1]:\"\");if(B){var G=ia();if(null!=G&&G>parseFloat(E)){D=String(G);break a}}D=E}var ja=D,H={},I;if(h.document&&B){var ka=ia();I=ka?ka:parseInt(ja,10)||void 0}else I=void 0;var la=I;var J;(J=!B)||(J=9<=Number(la));var ma=J,K;if(K=B){var L;if(Object.prototype.hasOwnProperty.call(H,\"9\"))L=H[\"9\"];else{for(var M=0,na=v(String(ja)).split(\".\"),oa=v(\"9\").split(\".\"),pa=Math.max(na.length,oa.length),N=0;0==M&&N<pa;N++){var qa=na[N]||\"\",ra=oa[N]||\"\";do{var O=/(\\d*)(\\D*)(.*)/.exec(qa)||[\"\",\"\",\"\",\"\"],P=/(\\d*)(\\D*)(.*)/.exec(ra)||[\"\",\"\",\"\",\"\"];if(0==O[0].length&&0==P[0].length)break;M=w(0==O[1].length?0:parseInt(O[1],10),0==P[1].length?0:parseInt(P[1],10))||w(0==O[2].length,0==P[2].length)||w(O[2],P[2]);qa=O[3];ra=P[3]}while(0==M)}L=\n"
     ]
    }
   ],
   "source": [
    "import requests\n",
    "response = requests.get('http://google.com/search', params={'q': 'LSU'})\n",
    "print (\"URI requested: {}\".format(response.request.url))\n",
    "print (\"Status Code: {}\\n\".format(response.status_code))\n",
    "\n",
    "lines = response.text.splitlines() # split the string into a list, one line per element\n",
    "\n",
    "# use loop to only print first 5 lines of the response\n",
    "for i in range(5):\n",
    "  print(lines[i])"
   ]
  },
  {
   "cell_type": "markdown",
   "metadata": {
    "colab_type": "text",
    "id": "8_wG_TQLDYA5"
   },
   "source": [
    "## Beautiful Soup Library"
   ]
  },
  {
   "cell_type": "markdown",
   "metadata": {
    "colab_type": "text",
    "id": "ela1XItgECfO"
   },
   "source": [
    "*Print all the links (`a href=`) in a webpage*"
   ]
  },
  {
   "cell_type": "code",
   "execution_count": null,
   "metadata": {
    "colab": {},
    "colab_type": "code",
    "id": "VRb3IvzJDZ0d"
   },
   "outputs": [],
   "source": [
    "from bs4 import BeautifulSoup\n",
    "import requests\n",
    "\n",
    "response = requests.get('http://google.com/search', params={'q': 'LSU'})\n",
    "\n",
    "soup = BeautifulSoup(response.text)\n",
    "for links in soup.find_all('a'):\n",
    "  print(links.get('href'))"
   ]
  },
  {
   "cell_type": "markdown",
   "metadata": {
    "colab_type": "text",
    "id": "SfIjQ3ZuHB3b"
   },
   "source": [
    "Filter URIs -- print only links that start with `/url?q=`, strip that off, and stop at first `&`\n",
    "\n",
    "Use https://regex101.com/ for testing the regex"
   ]
  },
  {
   "cell_type": "code",
   "execution_count": 5,
   "metadata": {
    "colab": {},
    "colab_type": "code",
    "id": "Cx75kk_WHBXF"
   },
   "outputs": [
    {
     "name": "stdout",
     "output_type": "stream",
     "text": [
      "https://www.espn.com/nfl/story/_/id/29695685/two-women-say-former-washington-running-back-derrius-guice-raped-lsu-2016\n",
      "https://www.usatoday.com/story/sports/ncaaf/sec/2020/08/19/ex-washington-nfl-player-derrius-guice-accused-rape-while-lsu/3391053001/\n",
      "https://www.theroot.com/former-washington-running-back-derrius-guice-accused-of-1844775541\n",
      "https://www.saturdaydownsouth.com/lsu-football/report-former-lsu-defender-enters-ncaa-transfer-portal/\n",
      "https://247sports.com/college/lsu/Article/LSU-football-grabs-top-5-ranking-in-yahoo-sports-updated-top-25-150464155/\n",
      "https://www.theadvocate.com/baton_rouge/sports/lsu/article_f25598f6-e18c-11ea-9129-e39820a1ab09.html\n",
      "https://www.theadvocate.com/baton_rouge/sports/lsu/article_71f6652e-e195-11ea-8beb-fbd745069853.html\n",
      "https://www.wbrz.com/news/former-football-star-derrius-guice-accused-of-raping-two-women-during-his-freshman-year-at-lsu/\n",
      "https://www.wafb.com/2020/08/19/report-two-women-claim-derrius-guice-raped-them-lsu/\n",
      "https://www.theadvocate.com/baton_rouge/sports/lsu/article_9af4be6c-e177-11ea-995a-234d76e3374a.html\n",
      "https://www.lsu.edu/\n",
      "https://www.lsu.edu/admission/index.php\n",
      "https://mylsu.apps.lsu.edu/c/portal/login\n",
      "https://lsusports.net/\n",
      "https://lsusports.net/sports/football\n",
      "https://twitter.com/LSU%3Fref_src%3Dtwsrc%255Egoogle%257Ctwcamp%255Eserp%257Ctwgr%255Eauthor\n",
      "https://twitter.com/LSU/status/1296131983156940803%3Fref_src%3Dtwsrc%255Egoogle%257Ctwcamp%255Eserp%257Ctwgr%255Etweet\n",
      "https://twitter.com/LSU/status/1295761557226389510%3Fref_src%3Dtwsrc%255Egoogle%257Ctwcamp%255Eserp%257Ctwgr%255Etweet\n",
      "https://twitter.com/LSU/status/1295741449665949696%3Fref_src%3Dtwsrc%255Egoogle%257Ctwcamp%255Eserp%257Ctwgr%255Etweet\n",
      "https://twitter.com/LSU/status/1295451125190205447%3Fref_src%3Dtwsrc%255Egoogle%257Ctwcamp%255Eserp%257Ctwgr%255Etweet\n",
      "https://twitter.com/LSU/status/1294620103963586560%3Fref_src%3Dtwsrc%255Egoogle%257Ctwcamp%255Eserp%257Ctwgr%255Etweet\n",
      "https://www.usatoday.com/story/sports/ncaaf/sec/2020/08/19/ex-washington-nfl-player-derrius-guice-accused-rape-while-lsu/3391053001/\n",
      "http://www.lsu.edu/\n",
      "https://en.wikipedia.org/wiki/Louisiana_State_University\n",
      "https://en.wikipedia.org/wiki/Tom_Galligan_(college_president)\n",
      "https://en.wikipedia.org/wiki/Universities_Research_Association\n",
      "https://en.wikipedia.org/wiki/Association_of_Public_and_Land-grant_Universities\n",
      "https://en.wikipedia.org/wiki/Oak_Ridge_Associated_Universities\n",
      "https://en.wikipedia.org/wiki/Southeastern_Universities_Research_Association\n",
      "https://www.facebook.com/geauxlsu/\n",
      "http://www.lsua.edu/\n",
      "https://accounts.google.com/ServiceLogin%3Fcontinue%3Dhttp://www.google.com/search%253Fq%253DLSU%26hl%3Den\n"
     ]
    }
   ],
   "source": [
    "from bs4 import BeautifulSoup\n",
    "import requests\n",
    "import re\n",
    "\n",
    "response = requests.get('http://google.com/search', params={'q': 'LSU'})\n",
    "\n",
    "pattern = re.compile('\\/url\\?q=([^&]+)')\n",
    "\n",
    "soup = BeautifulSoup(response.text)\n",
    "for links in soup.find_all('a'):\n",
    "  href = links.get('href')\n",
    "  m = pattern.match(href)\n",
    "  if (m != None):\n",
    "    print (m.groups()[0])"
   ]
  }
 ],
 "metadata": {
  "colab": {
   "authorship_tag": "ABX9TyP2gafLBwiRZDoqNsLLq614",
   "collapsed_sections": [],
   "include_colab_link": true,
   "name": "625-Week-02-Data.ipynb",
   "provenance": [],
   "toc_visible": true
  },
  "kernelspec": {
   "display_name": "Python 3",
   "language": "python",
   "name": "python3"
  },
  "language_info": {
   "codemirror_mode": {
    "name": "ipython",
    "version": 3
   },
   "file_extension": ".py",
   "mimetype": "text/x-python",
   "name": "python",
   "nbconvert_exporter": "python",
   "pygments_lexer": "ipython3",
   "version": "3.7.6"
  }
 },
 "nbformat": 4,
 "nbformat_minor": 1
}
